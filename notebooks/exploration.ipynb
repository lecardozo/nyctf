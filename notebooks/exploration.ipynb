{
 "cells": [
  {
   "cell_type": "code",
   "execution_count": 1,
   "id": "disturbed-samoa",
   "metadata": {},
   "outputs": [],
   "source": [
    "import sys\n",
    "sys.path.insert(0, \"..\")"
   ]
  },
  {
   "cell_type": "markdown",
   "id": "equal-helen",
   "metadata": {},
   "source": [
    "# New York City Taxi Fare Prediction \n",
    "\n",
    "🔗 [Kaggle Overview](https://www.kaggle.com/c/new-york-city-taxi-fare-prediction/overview)"
   ]
  },
  {
   "cell_type": "markdown",
   "id": "armed-setup",
   "metadata": {},
   "source": [
    "## Goal\n",
    "\n",
    "The main goal here is to create a model that, given some information about the pickup and dropoff locations, predict the fare amount for that taxi trip."
   ]
  },
  {
   "cell_type": "code",
   "execution_count": 3,
   "id": "peaceful-salmon",
   "metadata": {},
   "outputs": [],
   "source": [
    "import pandas as pd\n",
    "import seaborn as sns\n",
    "import matplotlib.pyplot as plt\n",
    "from IPython.display import Markdown"
   ]
  },
  {
   "cell_type": "markdown",
   "id": "close-release",
   "metadata": {},
   "source": [
    "#### Training dataset size"
   ]
  },
  {
   "cell_type": "code",
   "execution_count": 4,
   "id": "motivated-circus",
   "metadata": {},
   "outputs": [
    {
     "name": "stdout",
     "output_type": "stream",
     "text": [
      "5.3G\n"
     ]
    }
   ],
   "source": [
    "!du -hs ../data/train.csv | cut -f1"
   ]
  },
  {
   "cell_type": "code",
   "execution_count": 5,
   "id": "received-scout",
   "metadata": {},
   "outputs": [],
   "source": [
    "total_rows = !wc -l ../data/train.csv | cut -d' ' -f 2\n",
    "total_rows = int(total_rows[0])"
   ]
  },
  {
   "cell_type": "code",
   "execution_count": 6,
   "id": "dutch-reply",
   "metadata": {},
   "outputs": [
    {
     "data": {
      "text/plain": [
       "5542385.600000001"
      ]
     },
     "execution_count": 6,
     "metadata": {},
     "output_type": "execute_result"
    }
   ],
   "source": [
    "total_rows * 0.1"
   ]
  },
  {
   "cell_type": "code",
   "execution_count": 7,
   "id": "inside-speaking",
   "metadata": {},
   "outputs": [],
   "source": [
    "df = pd.read_csv(\"../data/train.csv\", nrows=int(total_rows * 0.1))"
   ]
  },
  {
   "cell_type": "markdown",
   "id": "occupational-deposit",
   "metadata": {},
   "source": [
    "## Relevant information\n",
    "\n",
    "Before even start looking at the data itself, it's important for us to get a little more information about the rules for fare calculation in New York. Here are some resources about it coming from the [www.nyc.gov website page on taxi fares](https://www1.nyc.gov/site/tlc/passengers/taxi-fare.page):\n",
    "\n",
    "#### Standard Metered Fare 💸\n",
    "\n",
    "- \\$2.50 initial charge.\n",
    "- Plus 50 cents per 1/5 mile when traveling above 12mph or per 60 seconds in slow traffic or when the vehicle is stopped.\n",
    "- Plus 50 cents MTA State Surcharge for all trips that end in New York City or Nassau, Suffolk, Westchester, Rockland, Dutchess, Orange or Putnam Counties.\n",
    "- Plus 30 cents Improvement Surcharge.\n",
    "- Plus 50 cents overnight surcharge 8pm to 6am.\n",
    "- Plus \\\\$1.00 rush hour surcharge from 4pm to 8pm on weekdays, excluding holidays.\n",
    "- Plus New York State Congestion Surcharge of \\\\$2.50 (Yellow Taxi) or \\\\$2.75 (Green Taxi and FHV) or 75 cents (any shared ride) for all trips that begin, end or pass through Manhattan south of 96th Street.\n",
    "- Plus tips and any tolls.\n",
    "- There is **no charge for extra passengers**, luggage or bags, or paying by credit card.\n",
    "- The on-screen rate message should read: \"Rate #01 – Standard City Rate.\"\n",
    "- Make sure to always take your receipt."
   ]
  },
  {
   "cell_type": "markdown",
   "id": "noted-wrist",
   "metadata": {},
   "source": [
    "## Fare\n",
    "\n",
    "According to NYC Taxi's fare information we've just read, there is a minimal \\$2.5 initial charge to all trips, so we should check for values bellow this threshold and remove from our dataset"
   ]
  },
  {
   "cell_type": "code",
   "execution_count": 8,
   "id": "short-staff",
   "metadata": {},
   "outputs": [],
   "source": [
    "invalid_fare = (df.fare_amount <= 2.5)"
   ]
  },
  {
   "cell_type": "code",
   "execution_count": 9,
   "id": "nonprofit-reviewer",
   "metadata": {},
   "outputs": [
    {
     "data": {
      "text/markdown": [
       "**Invalid fair_amount rate:** 0.004"
      ],
      "text/plain": [
       "<IPython.core.display.Markdown object>"
      ]
     },
     "execution_count": 9,
     "metadata": {},
     "output_type": "execute_result"
    }
   ],
   "source": [
    "Markdown(f\"**Invalid fair_amount rate:** {invalid_fare.mean().round(3)}\")"
   ]
  },
  {
   "cell_type": "code",
   "execution_count": 10,
   "id": "excited-principle",
   "metadata": {},
   "outputs": [],
   "source": [
    "df = df[~invalid_fare]"
   ]
  },
  {
   "cell_type": "markdown",
   "id": "undefined-friend",
   "metadata": {},
   "source": [
    "## Coordinates\n",
    "\n",
    "Here we'll explore coordinate values for each trip. We should keep in mind that this dataset is from New York, which has its center at (40.7127281, -74.0060152).\n",
    "Any coordinate that falls way further from this point (up to an arbitrarily big radius), should be considered invalid and removed from further analysis"
   ]
  },
  {
   "cell_type": "code",
   "execution_count": 11,
   "id": "ahead-walter",
   "metadata": {},
   "outputs": [],
   "source": [
    "invalid_coordinates = (\n",
    "    df.filter(regex=\"lon|lat\").eq(0).any(axis=1) |\n",
    "    df.filter(regex=\"lon|lat\").isnull().any(axis=1) |\n",
    "    df.filter(regex=\"lon\").abs().gt(180).any(axis=1) |\n",
    "    df.filter(regex=\"lat\").abs().gt(90).any(axis=1)\n",
    ")"
   ]
  },
  {
   "cell_type": "code",
   "execution_count": 12,
   "id": "british-sponsorship",
   "metadata": {},
   "outputs": [
    {
     "data": {
      "text/markdown": [
       "**Invalid coordinates rate:** 0.02"
      ],
      "text/plain": [
       "<IPython.core.display.Markdown object>"
      ]
     },
     "execution_count": 12,
     "metadata": {},
     "output_type": "execute_result"
    }
   ],
   "source": [
    "Markdown(f\"**Invalid coordinates rate:** {invalid_coordinates.mean().round(3)}\")"
   ]
  },
  {
   "cell_type": "code",
   "execution_count": 13,
   "id": "considered-island",
   "metadata": {},
   "outputs": [],
   "source": [
    "df = df[~invalid_coordinates]"
   ]
  },
  {
   "cell_type": "markdown",
   "id": "gentle-election",
   "metadata": {},
   "source": [
    "## Passenger count"
   ]
  },
  {
   "cell_type": "code",
   "execution_count": 14,
   "id": "alien-layer",
   "metadata": {},
   "outputs": [],
   "source": [
    "invalid_passenger_count = df.passenger_count > df.passenger_count.quantile(0.98)"
   ]
  },
  {
   "cell_type": "code",
   "execution_count": 15,
   "id": "diverse-output",
   "metadata": {},
   "outputs": [],
   "source": [
    "df = df[~invalid_passenger_count]"
   ]
  },
  {
   "cell_type": "markdown",
   "id": "remarkable-missouri",
   "metadata": {},
   "source": [
    "## Feature Engineering"
   ]
  },
  {
   "cell_type": "markdown",
   "id": "typical-bulgaria",
   "metadata": {},
   "source": [
    "## Distance\n",
    "\n",
    "One of the most relevant features for predicting taxi fare ammounts must the distance between the pickup and dropoff spots. As you imagine, there are plenty of ways to calculate this distance. We could just take the euclidean distance, which is a good approximation for small distances but fails on larger distances, because it does not consider Earths roundness (~though some flatearthers may not agree with us~). For this, a better approximation is using **haversine** distance, which is a much better approximation for the real distance.\n",
    "\n",
    "Now, both the euclidean and haversine distances are measuring only the straight (or almost straight) line between this two spots. A taxi driver, unfortunately cannot do it. So, the best approximation we could have is calculating the distance given the shortest possible street route."
   ]
  },
  {
   "cell_type": "code",
   "execution_count": 16,
   "id": "charming-willow",
   "metadata": {},
   "outputs": [],
   "source": [
    "from nyctf.training.features import haversine_distance"
   ]
  },
  {
   "cell_type": "code",
   "execution_count": 17,
   "id": "proud-summary",
   "metadata": {},
   "outputs": [],
   "source": [
    "df[\"hav_distance_km\"] = haversine_distance(df.pickup_longitude, df.pickup_latitude, df.dropoff_longitude, df.dropoff_latitude)"
   ]
  },
  {
   "cell_type": "code",
   "execution_count": 18,
   "id": "atmospheric-missile",
   "metadata": {},
   "outputs": [
    {
     "data": {
      "text/plain": [
       "<AxesSubplot:ylabel='Frequency'>"
      ]
     },
     "execution_count": 18,
     "metadata": {},
     "output_type": "execute_result"
    },
    {
     "data": {
      "image/png": "[encoded data removed]",
      "text/plain": [
       "<Figure size 432x288 with 1 Axes>"
      ]
     },
     "metadata": {
      "needs_background": "light"
     },
     "output_type": "display_data"
    }
   ],
   "source": [
    "df.hav_distance_km.plot.hist()"
   ]
  },
  {
   "cell_type": "code",
   "execution_count": 19,
   "id": "fluid-surveillance",
   "metadata": {},
   "outputs": [],
   "source": [
    "invalid_trip_distances = df.hav_distance_km > df.hav_distance_km.quantile(0.99)"
   ]
  },
  {
   "cell_type": "code",
   "execution_count": 20,
   "id": "marked-accent",
   "metadata": {},
   "outputs": [],
   "source": [
    "df = df[~invalid_trip_distances]"
   ]
  },
  {
   "cell_type": "code",
   "execution_count": 21,
   "id": "heard-indication",
   "metadata": {},
   "outputs": [
    {
     "data": {
      "text/plain": [
       "<AxesSubplot:ylabel='Frequency'>"
      ]
     },
     "execution_count": 21,
     "metadata": {},
     "output_type": "execute_result"
    },
    {
     "data": {
      "image/png": "[encoded data removed]",
      "text/plain": [
       "<Figure size 432x288 with 1 Axes>"
      ]
     },
     "metadata": {
      "needs_background": "light"
     },
     "output_type": "display_data"
    }
   ],
   "source": [
    "df.hav_distance_km.plot.hist()"
   ]
  },
  {
   "cell_type": "markdown",
   "id": "appropriate-photographer",
   "metadata": {},
   "source": [
    "## Time related features"
   ]
  },
  {
   "cell_type": "code",
   "execution_count": 22,
   "id": "knowing-property",
   "metadata": {},
   "outputs": [],
   "source": [
    "df[\"pickup_datetime\"] = pd.to_datetime(df.pickup_datetime)"
   ]
  },
  {
   "cell_type": "code",
   "execution_count": 23,
   "id": "varying-crisis",
   "metadata": {},
   "outputs": [],
   "source": [
    "df[\"hour\"] = df.pickup_datetime.dt.hour"
   ]
  },
  {
   "cell_type": "code",
   "execution_count": 24,
   "id": "alpha-johnston",
   "metadata": {},
   "outputs": [
    {
     "ename": "AttributeError",
     "evalue": "'DatetimeProperties' object has no attribute 'day_of_week'",
     "output_type": "error",
     "traceback": [
      "\u001b[0;31m---------------------------------------------------------------------------\u001b[0m",
      "\u001b[0;31mAttributeError\u001b[0m                            Traceback (most recent call last)",
      "\u001b[0;32m<ipython-input-24-16eba9a9a68b>\u001b[0m in \u001b[0;36m<module>\u001b[0;34m\u001b[0m\n\u001b[0;32m----> 1\u001b[0;31m \u001b[0mdf\u001b[0m\u001b[0;34m[\u001b[0m\u001b[0;34m\"day_of_week\"\u001b[0m\u001b[0;34m]\u001b[0m \u001b[0;34m=\u001b[0m \u001b[0mdf\u001b[0m\u001b[0;34m.\u001b[0m\u001b[0mpickup_datetime\u001b[0m\u001b[0;34m.\u001b[0m\u001b[0mdt\u001b[0m\u001b[0;34m.\u001b[0m\u001b[0mday_of_week\u001b[0m\u001b[0;34m\u001b[0m\u001b[0;34m\u001b[0m\u001b[0m\n\u001b[0m",
      "\u001b[0;31mAttributeError\u001b[0m: 'DatetimeProperties' object has no attribute 'day_of_week'"
     ]
    }
   ],
   "source": [
    "df[\"day_of_week\"] = df.pickup_datetime.dt.day_of_week"
   ]
  },
  {
   "cell_type": "code",
   "execution_count": null,
   "id": "introductory-awareness",
   "metadata": {},
   "outputs": [],
   "source": [
    "df.loc[~df.day_of_week.isin([5,6])]\\\n",
    "  .groupby(\"hour\").fare_amount.median().plot.bar()"
   ]
  },
  {
   "cell_type": "markdown",
   "id": "present-incident",
   "metadata": {},
   "source": [
    "It looks like we have a peak median fare price between 3-5 o'clock for weekdays, which seems interesting."
   ]
  },
  {
   "cell_type": "code",
   "execution_count": null,
   "id": "foster-white",
   "metadata": {},
   "outputs": [],
   "source": [
    "df.groupby(\"day_of_week\").fare_amount.median().plot.bar()"
   ]
  },
  {
   "cell_type": "code",
   "execution_count": null,
   "id": "economic-arthritis",
   "metadata": {},
   "outputs": [],
   "source": [
    "df = df.sort_values(\"pickup_datetime\", ascending=True)"
   ]
  },
  {
   "cell_type": "markdown",
   "id": "incorporated-court",
   "metadata": {},
   "source": [
    "## Demand features\n",
    "\n",
    "Now, let's see if somehow the fare amounts are correlated with demand. According to the NYC official info, it shouldn't."
   ]
  },
  {
   "cell_type": "code",
   "execution_count": null,
   "id": "meaning-finding",
   "metadata": {},
   "outputs": [],
   "source": [
    "df_indexed = df.set_index(df.pickup_datetime)"
   ]
  },
  {
   "cell_type": "code",
   "execution_count": null,
   "id": "pleasant-moisture",
   "metadata": {},
   "outputs": [],
   "source": [
    "df_indexed[\"n_trips_up_to_30_min_before\"] = df_indexed.rolling(\"30min\").fare_amount.count()\n",
    "df_indexed[\"n_trips_up_to_1_h_before\"] = df_indexed.rolling(\"1h\").fare_amount.count()"
   ]
  },
  {
   "cell_type": "code",
   "execution_count": null,
   "id": "running-booking",
   "metadata": {},
   "outputs": [],
   "source": [
    "plt.scatter(df_indexed.n_trips_up_to_30_min_before, df_indexed.fare_amount, alpha=0.1)\n",
    "plt.xlabel(\"# trips up to 30 min before\")\n",
    "plt.ylabel(\"Fare amount\")"
   ]
  },
  {
   "cell_type": "code",
   "execution_count": null,
   "id": "concrete-poetry",
   "metadata": {},
   "outputs": [],
   "source": [
    "plt.scatter(df_indexed.n_trips_up_to_1_h_before, df_indexed.fare_amount, alpha=0.1)\n",
    "plt.xlabel(\"# trips up to 1 hour before\")\n",
    "plt.ylabel(\"Fare amount\")"
   ]
  },
  {
   "cell_type": "markdown",
   "id": "closing-christianity",
   "metadata": {},
   "source": [
    "No apparent correlation between the demand right before the trip and the fare amount."
   ]
  },
  {
   "cell_type": "markdown",
   "id": "adapted-system",
   "metadata": {},
   "source": [
    "## Passengers"
   ]
  },
  {
   "cell_type": "code",
   "execution_count": null,
   "id": "bridal-stick",
   "metadata": {},
   "outputs": [],
   "source": [
    "df.groupby(\"passenger_count\").fare_amount.median().plot.bar()"
   ]
  },
  {
   "cell_type": "code",
   "execution_count": null,
   "id": "economic-blake",
   "metadata": {},
   "outputs": [],
   "source": [
    "df.groupby(\"passenger_count\").size().plot.bar()"
   ]
  },
  {
   "cell_type": "markdown",
   "id": "abroad-iraqi",
   "metadata": {},
   "source": [
    "## Conclusion\n",
    "\n",
    "Features that can be used for training:\n",
    "\n",
    "- hav_distance_km\n",
    "- hour\n",
    "- day_of_week"
   ]
  }
 ],
 "metadata": {
  "kernelspec": {
   "display_name": "Python 3",
   "language": "python",
   "name": "python3"
  },
  "language_info": {
   "codemirror_mode": {
    "name": "ipython",
    "version": 3
   },
   "file_extension": ".py",
   "mimetype": "text/x-python",
   "name": "python",
   "nbconvert_exporter": "python",
   "pygments_lexer": "ipython3",
   "version": "3.8.6"
  }
 },
 "nbformat": 4,
 "nbformat_minor": 5
}
