{
 "cells": [
  {
   "cell_type": "code",
   "execution_count": 1,
   "id": "complete-lucas",
   "metadata": {},
   "outputs": [],
   "source": [
    "import sys\n",
    "sys.path.append(\"..\")"
   ]
  },
  {
   "cell_type": "markdown",
   "id": "sustained-charger",
   "metadata": {},
   "source": [
    "# New York City Taxi Fare Prediction \n",
    "\n",
    "🔗 [Kaggle Overview](https://www.kaggle.com/c/new-york-city-taxi-fare-prediction/overview)"
   ]
  },
  {
   "cell_type": "markdown",
   "id": "standing-chapter",
   "metadata": {},
   "source": [
    "## Goal\n",
    "\n",
    "The main goal here is to create a model that, given some information about the pickup and dropoff locations, predict the fare amount for that taxi trip."
   ]
  },
  {
   "cell_type": "code",
   "execution_count": 30,
   "id": "deluxe-berlin",
   "metadata": {},
   "outputs": [],
   "source": [
    "import pandas as pd\n",
    "import seaborn as sns\n",
    "import matplotlib.pyplot as plt\n",
    "from IPython.display import Markdown"
   ]
  },
  {
   "cell_type": "markdown",
   "id": "supposed-sunglasses",
   "metadata": {},
   "source": [
    "#### Training dataset size"
   ]
  },
  {
   "cell_type": "code",
   "execution_count": 3,
   "id": "informational-virus",
   "metadata": {},
   "outputs": [
    {
     "name": "stdout",
     "output_type": "stream",
     "text": [
      "5.3G\n"
     ]
    }
   ],
   "source": [
    "!du -hs ../data/train.csv | cut -f1"
   ]
  },
  {
   "cell_type": "code",
   "execution_count": 4,
   "id": "suburban-tuning",
   "metadata": {},
   "outputs": [],
   "source": [
    "total_rows = !wc -l ../data/train.csv | cut -d' ' -f 2\n",
    "total_rows = int(total_rows[0])"
   ]
  },
  {
   "cell_type": "code",
   "execution_count": 5,
   "id": "incident-winning",
   "metadata": {},
   "outputs": [],
   "source": [
    "df = pd.read_csv(\"../data/train.csv\", nrows=int(total_rows * 0.1))"
   ]
  },
  {
   "cell_type": "markdown",
   "id": "underlying-england",
   "metadata": {},
   "source": [
    "## Relevant information\n",
    "\n",
    "Before even start looking at the data itself, it's important for us to get a little more information about the rules for fare calculation in New York. Here are some resources about it coming from the [www.nyc.gov website page on taxi fares](https://www1.nyc.gov/site/tlc/passengers/taxi-fare.page):\n",
    "\n",
    "#### Standard Metered Fare 💸\n",
    "\n",
    "- \\$2.50 initial charge.\n",
    "- Plus 50 cents per 1/5 mile when traveling above 12mph or per 60 seconds in slow traffic or when the vehicle is stopped.\n",
    "- Plus 50 cents MTA State Surcharge for all trips that end in New York City or Nassau, Suffolk, Westchester, Rockland, Dutchess, Orange or Putnam Counties.\n",
    "- Plus 30 cents Improvement Surcharge.\n",
    "- Plus 50 cents overnight surcharge 8pm to 6am.\n",
    "- Plus \\\\$1.00 rush hour surcharge from 4pm to 8pm on weekdays, excluding holidays.\n",
    "- Plus New York State Congestion Surcharge of \\\\$2.50 (Yellow Taxi) or \\\\$2.75 (Green Taxi and FHV) or 75 cents (any shared ride) for all trips that begin, end or pass through Manhattan south of 96th Street.\n",
    "- Plus tips and any tolls.\n",
    "- There is **no charge for extra passengers**, luggage or bags, or paying by credit card.\n",
    "- The on-screen rate message should read: \"Rate #01 – Standard City Rate.\"\n",
    "- Make sure to always take your receipt."
   ]
  },
  {
   "cell_type": "markdown",
   "id": "classified-postage",
   "metadata": {},
   "source": [
    "## Fare\n",
    "\n",
    "According to NYC Taxi's fare information we've just read, there is a minimal \\$2.5 initial charge to all trips, so we should check for values bellow this threshold and remove from our dataset"
   ]
  },
  {
   "cell_type": "code",
   "execution_count": 6,
   "id": "higher-triangle",
   "metadata": {},
   "outputs": [],
   "source": [
    "invalid_fare = (df.fare_amount <= 2.5)"
   ]
  },
  {
   "cell_type": "code",
   "execution_count": 7,
   "id": "impressed-melissa",
   "metadata": {},
   "outputs": [
    {
     "data": {
      "text/markdown": [
       "**Invalid fair_amount rate:** 0.004"
      ],
      "text/plain": [
       "<IPython.core.display.Markdown object>"
      ]
     },
     "execution_count": 7,
     "metadata": {},
     "output_type": "execute_result"
    }
   ],
   "source": [
    "Markdown(f\"**Invalid fair_amount rate:** {invalid_fare.mean().round(3)}\")"
   ]
  },
  {
   "cell_type": "code",
   "execution_count": 8,
   "id": "phantom-april",
   "metadata": {},
   "outputs": [],
   "source": [
    "df = df[~invalid_fare]"
   ]
  },
  {
   "cell_type": "markdown",
   "id": "geographic-secretariat",
   "metadata": {},
   "source": [
    "## Coordinates\n",
    "\n",
    "Here we'll explore coordinate values for each trip. We should keep in mind that this dataset is from New York, which has its center at (40.7127281, -74.0060152).\n",
    "Any coordinate that falls way further from this point (up to an arbitrarily big radius), should be considered invalid and removed from further analysis"
   ]
  },
  {
   "cell_type": "code",
   "execution_count": 9,
   "id": "cellular-fabric",
   "metadata": {},
   "outputs": [],
   "source": [
    "invalid_coordinates = (\n",
    "    df.filter(regex=\"lon|lat\").eq(0).any(axis=1) |\n",
    "    df.filter(regex=\"lon|lat\").isnull().any(axis=1) |\n",
    "    df.filter(regex=\"lon\").abs().gt(180).any(axis=1) |\n",
    "    df.filter(regex=\"lat\").abs().gt(90).any(axis=1)\n",
    ")"
   ]
  },
  {
   "cell_type": "code",
   "execution_count": 10,
   "id": "cardiovascular-friendship",
   "metadata": {},
   "outputs": [
    {
     "data": {
      "text/markdown": [
       "**Invalid coordinates rate:** 0.02"
      ],
      "text/plain": [
       "<IPython.core.display.Markdown object>"
      ]
     },
     "execution_count": 10,
     "metadata": {},
     "output_type": "execute_result"
    }
   ],
   "source": [
    "Markdown(f\"**Invalid coordinates rate:** {invalid_coordinates.mean().round(3)}\")"
   ]
  },
  {
   "cell_type": "code",
   "execution_count": 11,
   "id": "endangered-netscape",
   "metadata": {},
   "outputs": [],
   "source": [
    "df = df[~invalid_coordinates]"
   ]
  },
  {
   "cell_type": "markdown",
   "id": "deluxe-essay",
   "metadata": {},
   "source": [
    "## Passenger count"
   ]
  },
  {
   "cell_type": "code",
   "execution_count": 13,
   "id": "ordered-nomination",
   "metadata": {},
   "outputs": [],
   "source": [
    "invalid_passenger_count = df.passenger_count > df.passenger_count.quantile(0.98)"
   ]
  },
  {
   "cell_type": "code",
   "execution_count": 14,
   "id": "dated-colonial",
   "metadata": {},
   "outputs": [],
   "source": [
    "df = df[~invalid_passenger_count]"
   ]
  },
  {
   "cell_type": "markdown",
   "id": "departmental-european",
   "metadata": {},
   "source": [
    "## Feature Engineering"
   ]
  },
  {
   "cell_type": "markdown",
   "id": "great-handy",
   "metadata": {},
   "source": [
    "## Distance\n",
    "\n",
    "One of the most relevant features for predicting taxi fare ammounts must the distance between the pickup and dropoff spots. As you imagine, there are plenty of ways to calculate this distance. We could just take the euclidean distance, which is a good approximation for small distances but fails on larger distances, because it does not consider Earths roundness (~though some flatearthers may not agree with us~). For this, a better approximation is using **haversine** distance, which is a much better approximation for the real distance.\n",
    "\n",
    "Now, both the euclidean and haversine distances are measuring only the straight (or almost straight) line between this two spots. A taxi driver, unfortunately cannot do it. So, the best approximation we could have is calculating the distance given the shortest possible street route."
   ]
  },
  {
   "cell_type": "code",
   "execution_count": 15,
   "id": "proprietary-checkout",
   "metadata": {},
   "outputs": [],
   "source": [
    "import numpy as np\n",
    "\n",
    "def haversine_distance(lon1, lat1, lon2, lat2):\n",
    "    \"\"\"\n",
    "    Calculate the great circle distance between two points\n",
    "    on the earth (specified in decimal degrees)\n",
    "\n",
    "    All args must be of equal length.\n",
    "    \n",
    "    Taken from: https://stackoverflow.com/questions/29545704/fast-haversine-approximation-python-pandas\n",
    "    \"\"\"\n",
    "    lon1, lat1, lon2, lat2 = map(np.radians, [lon1, lat1, lon2, lat2])\n",
    "\n",
    "    dlon = lon2 - lon1\n",
    "    dlat = lat2 - lat1\n",
    "\n",
    "    a = np.sin(dlat/2.0)**2 + np.cos(lat1) * np.cos(lat2) * np.sin(dlon/2.0)**2\n",
    "\n",
    "    c = 2 * np.arcsin(np.sqrt(a))\n",
    "    km = 6367 * c\n",
    "    return km"
   ]
  },
  {
   "cell_type": "code",
   "execution_count": 16,
   "id": "external-climb",
   "metadata": {},
   "outputs": [],
   "source": [
    "df[\"hav_distance_km\"] = haversine_distance(df.pickup_longitude, df.pickup_latitude, df.dropoff_longitude, df.dropoff_latitude)"
   ]
  },
  {
   "cell_type": "code",
   "execution_count": 17,
   "id": "frank-damages",
   "metadata": {},
   "outputs": [
    {
     "data": {
      "text/plain": [
       "<AxesSubplot:ylabel='Frequency'>"
      ]
     },
     "execution_count": 17,
     "metadata": {},
     "output_type": "execute_result"
    },
    {
     "data": {
      "image/png": "[encoded data removed]",
      "text/plain": [
       "<Figure size 432x288 with 1 Axes>"
      ]
     },
     "metadata": {
      "needs_background": "light"
     },
     "output_type": "display_data"
    }
   ],
   "source": [
    "df.hav_distance_km.plot.hist()"
   ]
  },
  {
   "cell_type": "code",
   "execution_count": 18,
   "id": "threaded-promise",
   "metadata": {},
   "outputs": [],
   "source": [
    "invalid_trip_distances = df.hav_distance_km > df.hav_distance_km.quantile(0.99)"
   ]
  },
  {
   "cell_type": "code",
   "execution_count": 19,
   "id": "cleared-burton",
   "metadata": {},
   "outputs": [],
   "source": [
    "df = df[~invalid_trip_distances]"
   ]
  },
  {
   "cell_type": "code",
   "execution_count": 20,
   "id": "introductory-correction",
   "metadata": {},
   "outputs": [
    {
     "data": {
      "text/plain": [
       "<AxesSubplot:ylabel='Frequency'>"
      ]
     },
     "execution_count": 20,
     "metadata": {},
     "output_type": "execute_result"
    },
    {
     "data": {
      "image/png": "[encoded data removed]",
      "text/plain": [
       "<Figure size 432x288 with 1 Axes>"
      ]
     },
     "metadata": {
      "needs_background": "light"
     },
     "output_type": "display_data"
    }
   ],
   "source": [
    "df.hav_distance_km.plot.hist()"
   ]
  },
  {
   "cell_type": "markdown",
   "id": "impaired-proof",
   "metadata": {},
   "source": [
    "## Time related features"
   ]
  },
  {
   "cell_type": "code",
   "execution_count": 21,
   "id": "structured-exhaust",
   "metadata": {},
   "outputs": [],
   "source": [
    "df[\"pickup_datetime\"] = pd.to_datetime(df.pickup_datetime)"
   ]
  },
  {
   "cell_type": "code",
   "execution_count": 22,
   "id": "contained-champagne",
   "metadata": {},
   "outputs": [],
   "source": [
    "df[\"hour\"] = df.pickup_datetime.dt.hour"
   ]
  },
  {
   "cell_type": "code",
   "execution_count": 23,
   "id": "vulnerable-peace",
   "metadata": {},
   "outputs": [],
   "source": [
    "df[\"day_of_week\"] = df.pickup_datetime.dt.day_of_week"
   ]
  },
  {
   "cell_type": "code",
   "execution_count": 24,
   "id": "casual-junior",
   "metadata": {},
   "outputs": [
    {
     "data": {
      "text/plain": [
       "<AxesSubplot:xlabel='hour'>"
      ]
     },
     "execution_count": 24,
     "metadata": {},
     "output_type": "execute_result"
    },
    {
     "data": {
      "image/png": "[encoded data removed]",
      "text/plain": [
       "<Figure size 432x288 with 1 Axes>"
      ]
     },
     "metadata": {
      "needs_background": "light"
     },
     "output_type": "display_data"
    }
   ],
   "source": [
    "df.loc[~df.day_of_week.isin([5,6])]\\\n",
    "  .groupby(\"hour\").fare_amount.median().plot.bar()"
   ]
  },
  {
   "cell_type": "markdown",
   "id": "female-israel",
   "metadata": {},
   "source": [
    "It looks like we have a peak median fare price between 3-5 o'clock for weekdays, which seems interesting."
   ]
  },
  {
   "cell_type": "code",
   "execution_count": 25,
   "id": "fifth-venture",
   "metadata": {},
   "outputs": [
    {
     "data": {
      "text/plain": [
       "<AxesSubplot:xlabel='day_of_week'>"
      ]
     },
     "execution_count": 25,
     "metadata": {},
     "output_type": "execute_result"
    },
    {
     "data": {
      "image/png": "[encoded data removed]",
      "text/plain": [
       "<Figure size 432x288 with 1 Axes>"
      ]
     },
     "metadata": {
      "needs_background": "light"
     },
     "output_type": "display_data"
    }
   ],
   "source": [
    "df.groupby(\"day_of_week\").fare_amount.median().plot.bar()"
   ]
  },
  {
   "cell_type": "code",
   "execution_count": 26,
   "id": "floating-sullivan",
   "metadata": {},
   "outputs": [],
   "source": [
    "df = df.sort_values(\"pickup_datetime\", ascending=True)"
   ]
  },
  {
   "cell_type": "markdown",
   "id": "finished-herald",
   "metadata": {},
   "source": [
    "## Demand features\n",
    "\n",
    "Now, let's see if somehow the fare amounts are correlated with demand. According to the NYC official info, it shouldn't."
   ]
  },
  {
   "cell_type": "code",
   "execution_count": 27,
   "id": "structured-richmond",
   "metadata": {},
   "outputs": [],
   "source": [
    "df_indexed = df.set_index(df.pickup_datetime)"
   ]
  },
  {
   "cell_type": "code",
   "execution_count": 28,
   "id": "overhead-reader",
   "metadata": {},
   "outputs": [],
   "source": [
    "df_indexed[\"n_trips_up_to_30_min_before\"] = df_indexed.rolling(\"30min\").fare_amount.count()\n",
    "df_indexed[\"n_trips_up_to_1_h_before\"] = df_indexed.rolling(\"1h\").fare_amount.count()"
   ]
  },
  {
   "cell_type": "code",
   "execution_count": 31,
   "id": "british-tournament",
   "metadata": {},
   "outputs": [
    {
     "data": {
      "text/plain": [
       "Text(0, 0.5, 'Fare amount')"
      ]
     },
     "execution_count": 31,
     "metadata": {},
     "output_type": "execute_result"
    },
    {
     "data": {
      "image/png": "[encoded data removed]",
      "text/plain": [
       "<Figure size 432x288 with 1 Axes>"
      ]
     },
     "metadata": {
      "needs_background": "light"
     },
     "output_type": "display_data"
    }
   ],
   "source": [
    "plt.scatter(df_indexed.n_trips_up_to_30_min_before, df_indexed.fare_amount, alpha=0.1)\n",
    "plt.xlabel(\"# trips up to 30 min before\")\n",
    "plt.ylabel(\"Fare amount\")"
   ]
  },
  {
   "cell_type": "code",
   "execution_count": 32,
   "id": "grateful-paris",
   "metadata": {},
   "outputs": [
    {
     "data": {
      "text/plain": [
       "Text(0, 0.5, 'Fare amount')"
      ]
     },
     "execution_count": 32,
     "metadata": {},
     "output_type": "execute_result"
    },
    {
     "data": {
      "image/png": "[encoded data removed]",
      "text/plain": [
       "<Figure size 432x288 with 1 Axes>"
      ]
     },
     "metadata": {
      "needs_background": "light"
     },
     "output_type": "display_data"
    }
   ],
   "source": [
    "plt.scatter(df_indexed.n_trips_up_to_1_h_before, df_indexed.fare_amount, alpha=0.1)\n",
    "plt.xlabel(\"# trips up to 1 hour before\")\n",
    "plt.ylabel(\"Fare amount\")"
   ]
  },
  {
   "cell_type": "markdown",
   "id": "automotive-current",
   "metadata": {},
   "source": [
    "No apparent correlation between the demand right before the trip and the fare amount."
   ]
  },
  {
   "cell_type": "markdown",
   "id": "asian-scout",
   "metadata": {},
   "source": [
    "## Passengers"
   ]
  },
  {
   "cell_type": "code",
   "execution_count": 37,
   "id": "ecological-purpose",
   "metadata": {},
   "outputs": [
    {
     "data": {
      "text/plain": [
       "<AxesSubplot:xlabel='passenger_count'>"
      ]
     },
     "execution_count": 37,
     "metadata": {},
     "output_type": "execute_result"
    },
    {
     "data": {
      "image/png": "[encoded data removed]",
      "text/plain": [
       "<Figure size 432x288 with 1 Axes>"
      ]
     },
     "metadata": {
      "needs_background": "light"
     },
     "output_type": "display_data"
    }
   ],
   "source": [
    "df.groupby(\"passenger_count\").fare_amount.median().plot.bar()"
   ]
  },
  {
   "cell_type": "code",
   "execution_count": 39,
   "id": "little-provincial",
   "metadata": {},
   "outputs": [
    {
     "data": {
      "text/plain": [
       "<AxesSubplot:xlabel='passenger_count'>"
      ]
     },
     "execution_count": 39,
     "metadata": {},
     "output_type": "execute_result"
    },
    {
     "data": {
      "image/png": "[encoded data removed]",
      "text/plain": [
       "<Figure size 432x288 with 1 Axes>"
      ]
     },
     "metadata": {
      "needs_background": "light"
     },
     "output_type": "display_data"
    }
   ],
   "source": [
    "df.groupby(\"passenger_count\").size().plot.bar()"
   ]
  },
  {
   "cell_type": "markdown",
   "id": "robust-consumption",
   "metadata": {},
   "source": [
    "## Conclusion\n",
    "\n",
    "Features that can be used for training:\n",
    "\n",
    "- hav_distance_km\n",
    "- hour\n",
    "- day_of_week"
   ]
  },
  {
   "cell_type": "code",
   "execution_count": null,
   "id": "pediatric-sleep",
   "metadata": {},
   "outputs": [],
   "source": []
  }
 ],
 "metadata": {
  "kernelspec": {
   "display_name": "Python 3",
   "language": "python",
   "name": "python3"
  },
  "language_info": {
   "codemirror_mode": {
    "name": "ipython",
    "version": 3
   },
   "file_extension": ".py",
   "mimetype": "text/x-python",
   "name": "python",
   "nbconvert_exporter": "python",
   "pygments_lexer": "ipython3",
   "version": "3.8.6"
  }
 },
 "nbformat": 4,
 "nbformat_minor": 5
}
